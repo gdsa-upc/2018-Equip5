{
 "cells": [
  {
   "cell_type": "code",
   "execution_count": 1,
   "metadata": {},
   "outputs": [
    {
     "name": "stderr",
     "output_type": "stream",
     "text": [
      "Using TensorFlow backend.\n"
     ]
    }
   ],
   "source": [
    "import keras\n",
    "import os\n",
    "import pickle\n",
    "import cv2 as cv2\n",
    "from sklearn import preprocessing\n",
    "import sklearn.preprocessing\n",
    "import numpy as np\n",
    "from os import walk\n",
    "import matplotlib.pyplot as plt\n",
    "from PIL import Image, ImageOps;\n",
    "from keras.models import Model\n",
    "from keras.preprocessing import image\n",
    "from keras.applications import VGG16\n",
    "from keras.applications.densenet import DenseNet201\n",
    "from keras.applications.densenet import preprocess_input\n",
    "from keras import models\n",
    "from keras import layers\n",
    "from keras.models import load_model\n",
    "seed = 13\n",
    "np.random.seed(seed)\n"
   ]
  },
  {
   "cell_type": "code",
   "execution_count": 2,
   "metadata": {},
   "outputs": [],
   "source": [
    "conv_base = VGG16(weights='imagenet',\n",
    "                  include_top=True,\n",
    "                  input_shape=(224, 224, 3))"
   ]
  },
  {
   "cell_type": "code",
   "execution_count": 3,
   "metadata": {},
   "outputs": [
    {
     "name": "stdout",
     "output_type": "stream",
     "text": [
      "_________________________________________________________________\n",
      "Layer (type)                 Output Shape              Param #   \n",
      "=================================================================\n",
      "input_1 (InputLayer)         (None, 224, 224, 3)       0         \n",
      "_________________________________________________________________\n",
      "block1_conv1 (Conv2D)        (None, 224, 224, 64)      1792      \n",
      "_________________________________________________________________\n",
      "block1_conv2 (Conv2D)        (None, 224, 224, 64)      36928     \n",
      "_________________________________________________________________\n",
      "block1_pool (MaxPooling2D)   (None, 112, 112, 64)      0         \n",
      "_________________________________________________________________\n",
      "block2_conv1 (Conv2D)        (None, 112, 112, 128)     73856     \n",
      "_________________________________________________________________\n",
      "block2_conv2 (Conv2D)        (None, 112, 112, 128)     147584    \n",
      "_________________________________________________________________\n",
      "block2_pool (MaxPooling2D)   (None, 56, 56, 128)       0         \n",
      "_________________________________________________________________\n",
      "block3_conv1 (Conv2D)        (None, 56, 56, 256)       295168    \n",
      "_________________________________________________________________\n",
      "block3_conv2 (Conv2D)        (None, 56, 56, 256)       590080    \n",
      "_________________________________________________________________\n",
      "block3_conv3 (Conv2D)        (None, 56, 56, 256)       590080    \n",
      "_________________________________________________________________\n",
      "block3_pool (MaxPooling2D)   (None, 28, 28, 256)       0         \n",
      "_________________________________________________________________\n",
      "block4_conv1 (Conv2D)        (None, 28, 28, 512)       1180160   \n",
      "_________________________________________________________________\n",
      "block4_conv2 (Conv2D)        (None, 28, 28, 512)       2359808   \n",
      "_________________________________________________________________\n",
      "block4_conv3 (Conv2D)        (None, 28, 28, 512)       2359808   \n",
      "_________________________________________________________________\n",
      "block4_pool (MaxPooling2D)   (None, 14, 14, 512)       0         \n",
      "_________________________________________________________________\n",
      "block5_conv1 (Conv2D)        (None, 14, 14, 512)       2359808   \n",
      "_________________________________________________________________\n",
      "block5_conv2 (Conv2D)        (None, 14, 14, 512)       2359808   \n",
      "_________________________________________________________________\n",
      "block5_conv3 (Conv2D)        (None, 14, 14, 512)       2359808   \n",
      "_________________________________________________________________\n",
      "block5_pool (MaxPooling2D)   (None, 7, 7, 512)         0         \n",
      "_________________________________________________________________\n",
      "flatten (Flatten)            (None, 25088)             0         \n",
      "_________________________________________________________________\n",
      "fc1 (Dense)                  (None, 4096)              102764544 \n",
      "_________________________________________________________________\n",
      "fc2 (Dense)                  (None, 4096)              16781312  \n",
      "_________________________________________________________________\n",
      "predictions (Dense)          (None, 1000)              4097000   \n",
      "=================================================================\n",
      "Total params: 138,357,544\n",
      "Trainable params: 138,357,544\n",
      "Non-trainable params: 0\n",
      "_________________________________________________________________\n"
     ]
    }
   ],
   "source": [
    "conv_base.summary()"
   ]
  },
  {
   "cell_type": "code",
   "execution_count": 4,
   "metadata": {},
   "outputs": [],
   "source": [
    "import numpy as np\n",
    "from matplotlib import pyplot as plt\n",
    "import matplotlib as mpl\n",
    "mpl.rcParams['axes.grid'] = False\n",
    "from skimage.io import imread\n",
    "\n",
    "import imgaug as ia\n",
    "from imgaug import augmenters as iaa"
   ]
  },
  {
   "cell_type": "code",
   "execution_count": 5,
   "metadata": {},
   "outputs": [],
   "source": [
    "#Creo una función para data aumentation\n",
    "seq = iaa.Sequential([\n",
    "    iaa.Fliplr(0.5), # horizontal flips con una prob del 50%\n",
    "    iaa.Flipud(0.5), # vertical flips con una prob del 50%\n",
    "    # Small gaussian blur with random sigma between 0 and 0.5.\n",
    "    # Hacemos un desenfoque a las imagenes pero solo un 50% del dataset approx, \n",
    "    # el valor del desonfoque es aleatorio entre 0-0.75\n",
    "    iaa.Sometimes(0.5,\n",
    "                  iaa.GaussianBlur(sigma=(0, 0.75))\n",
    "                 ),\n",
    "    \n",
    "    # Modificamos el contraste de forma random\n",
    "    iaa.ContrastNormalization((0.1, 1.5)),\n",
    "    # añadimos ruido gausiano de forma aleatoria\n",
    "    iaa.AdditiveGaussianNoise(loc=0, scale=(0.0, 0.05*255), per_channel=0.5),\n",
    "\n",
    "    # hacemos las imagenes un poco mas brillantes o oscuras de forma aleatoria\n",
    "    # puede llegar a cambiar el color\n",
    "    \n",
    "    iaa.Multiply((0.8, 1.2), per_channel=0.2),\n",
    "    # aplicamos una transformacion affine, que cambia la escala, el zoom rotacion\n",
    "    # translacion. Solo a un 50% del dataset\n",
    "    iaa.Sometimes(0.5,\n",
    "                     iaa.Affine(\n",
    "                     scale={\"x\": (0.8, 1.2), \"y\": (0.8, 1.2)},\n",
    "                     translate_percent={\"x\": (-0.2, 0.2), \"y\": (-0.2, 0.2)},\n",
    "                     rotate=(-25, 25),\n",
    "                     shear=(-8, 8)\n",
    "    )\n",
    "                 )\n",
    "\n",
    "], random_order=True)"
   ]
  },
  {
   "cell_type": "code",
   "execution_count": 6,
   "metadata": {},
   "outputs": [],
   "source": [
    "#Esta es una de las maneras en las que se puede jugar con los modelos preentrenados\n",
    "#from keras import models\n",
    "#from keras import layers\n",
    "#from keras.layers import Dense\n",
    "#n_classes = 13\n",
    "#fc2 = conv_base.get_layer('fc2').output\n",
    "#mypredictions = Dense(n_classes, activation='softmax', name='mypredictions')(fc2)\n",
    "#model = Model(input =conv_base.input, output =mypredictions)\n",
    "#keras.layers.Dropout(0.5,seed)"
   ]
  },
  {
   "cell_type": "code",
   "execution_count": 7,
   "metadata": {},
   "outputs": [],
   "source": [
    "from keras import models\n",
    "from keras import layers \n",
    "\n",
    "fc1 = conv_base.get_layer('fc1').output\n",
    "\n",
    "Drop1 = layers.Dropout(0.8, seed = seed)(fc1) #Esto evitará el overfiting\n",
    "Dense1 = layers.Dense(4096, activation='relu',name='fc2')(Drop1)\n",
    "Drop2 = layers.Dropout(0.8, seed = seed)(Dense1)#Esto evitará el overfiting\n",
    "Dense2 = layers.Dense(13, activation='sigmoid',name='mypredictions')(Drop2)\n",
    "\n",
    "model = Model(inputs=conv_base.input, outputs = Dense2)"
   ]
  },
  {
   "cell_type": "code",
   "execution_count": 11,
   "metadata": {},
   "outputs": [
    {
     "name": "stdout",
     "output_type": "stream",
     "text": [
      "_________________________________________________________________\n",
      "Layer (type)                 Output Shape              Param #   \n",
      "=================================================================\n",
      "input_1 (InputLayer)         (None, 224, 224, 3)       0         \n",
      "_________________________________________________________________\n",
      "block1_conv1 (Conv2D)        (None, 224, 224, 64)      1792      \n",
      "_________________________________________________________________\n",
      "block1_conv2 (Conv2D)        (None, 224, 224, 64)      36928     \n",
      "_________________________________________________________________\n",
      "block1_pool (MaxPooling2D)   (None, 112, 112, 64)      0         \n",
      "_________________________________________________________________\n",
      "block2_conv1 (Conv2D)        (None, 112, 112, 128)     73856     \n",
      "_________________________________________________________________\n",
      "block2_conv2 (Conv2D)        (None, 112, 112, 128)     147584    \n",
      "_________________________________________________________________\n",
      "block2_pool (MaxPooling2D)   (None, 56, 56, 128)       0         \n",
      "_________________________________________________________________\n",
      "block3_conv1 (Conv2D)        (None, 56, 56, 256)       295168    \n",
      "_________________________________________________________________\n",
      "block3_conv2 (Conv2D)        (None, 56, 56, 256)       590080    \n",
      "_________________________________________________________________\n",
      "block3_conv3 (Conv2D)        (None, 56, 56, 256)       590080    \n",
      "_________________________________________________________________\n",
      "block3_pool (MaxPooling2D)   (None, 28, 28, 256)       0         \n",
      "_________________________________________________________________\n",
      "block4_conv1 (Conv2D)        (None, 28, 28, 512)       1180160   \n",
      "_________________________________________________________________\n",
      "block4_conv2 (Conv2D)        (None, 28, 28, 512)       2359808   \n",
      "_________________________________________________________________\n",
      "block4_conv3 (Conv2D)        (None, 28, 28, 512)       2359808   \n",
      "_________________________________________________________________\n",
      "block4_pool (MaxPooling2D)   (None, 14, 14, 512)       0         \n",
      "_________________________________________________________________\n",
      "block5_conv1 (Conv2D)        (None, 14, 14, 512)       2359808   \n",
      "_________________________________________________________________\n",
      "block5_conv2 (Conv2D)        (None, 14, 14, 512)       2359808   \n",
      "_________________________________________________________________\n",
      "block5_conv3 (Conv2D)        (None, 14, 14, 512)       2359808   \n",
      "_________________________________________________________________\n",
      "block5_pool (MaxPooling2D)   (None, 7, 7, 512)         0         \n",
      "_________________________________________________________________\n",
      "flatten (Flatten)            (None, 25088)             0         \n",
      "_________________________________________________________________\n",
      "fc1 (Dense)                  (None, 4096)              102764544 \n",
      "_________________________________________________________________\n",
      "dropout_1 (Dropout)          (None, 4096)              0         \n",
      "_________________________________________________________________\n",
      "fc2 (Dense)                  (None, 4096)              16781312  \n",
      "_________________________________________________________________\n",
      "dropout_2 (Dropout)          (None, 4096)              0         \n",
      "_________________________________________________________________\n",
      "mypredictions (Dense)        (None, 13)                53261     \n",
      "=================================================================\n",
      "Total params: 134,313,805\n",
      "Trainable params: 134,313,805\n",
      "Non-trainable params: 0\n",
      "_________________________________________________________________\n"
     ]
    }
   ],
   "source": [
    "model.summary()"
   ]
  },
  {
   "cell_type": "code",
   "execution_count": 12,
   "metadata": {},
   "outputs": [],
   "source": [
    "#from keras import models      #4096\n",
    "#from keras import layers\n",
    "\n",
    "#model = models.Sequential()\n",
    "#model.add(conv_base)\n",
    "#model.add(layers.Dense(256, activation='relu'))\n",
    "#model.add(layers.Dense(13, activation='sigmoid'))"
   ]
  },
  {
   "cell_type": "code",
   "execution_count": 14,
   "metadata": {},
   "outputs": [
    {
     "name": "stdout",
     "output_type": "stream",
     "text": [
      "Found 1911 images belonging to 13 classes.\n",
      "Found 477 images belonging to 13 classes.\n"
     ]
    }
   ],
   "source": [
    "from keras.preprocessing.image import ImageDataGenerator\n",
    "\n",
    "train_datagen = ImageDataGenerator(\n",
    "      #rescale=1./255,\n",
    "      rotation_range=50,\n",
    "      width_shift_range=0.2,\n",
    "      height_shift_range=0.2,\n",
    "      shear_range=0.2,\n",
    "      zoom_range=0.2,\n",
    "      horizontal_flip=True,\n",
    "      brightness_range=(0.2,1.5),\n",
    "      preprocessing_function=seq.augment_image,\n",
    "      fill_mode='nearest')\n",
    "\n",
    "train_dir =\"./dataset\"\n",
    "validation_dir= \"./dataset_test\"\n",
    "# Note that the validation data should not be augmented!\n",
    "test_datagen = ImageDataGenerator(\n",
    "    #rescale=1./255\n",
    ")\n",
    "\n",
    "train_generator = train_datagen.flow_from_directory(\n",
    "        # This is the target directory\n",
    "        train_dir,\n",
    "        target_size=(224, 224),\n",
    "        batch_size=20,\n",
    "        # Since we use binary_crossentropy loss, we need binary labels\n",
    "        class_mode='categorical')\n",
    "\n",
    "validation_generator = test_datagen.flow_from_directory(\n",
    "        validation_dir,\n",
    "        target_size=(224, 224),\n",
    "        batch_size=20,\n",
    "        class_mode='categorical')\n"
   ]
  },
  {
   "cell_type": "code",
   "execution_count": 15,
   "metadata": {},
   "outputs": [
    {
     "name": "stdout",
     "output_type": "stream",
     "text": [
      "{'mercat_independencia': 9, 'societat_general': 11, 'desconegut': 3, 'farmacia_albinyana': 7, 'ajuntament': 0, 'mnactec': 10, 'escola_enginyeria': 5, 'masia_freixa': 8, 'castell_cartoixa': 1, 'dona_treballadora': 4, 'catedral': 2, 'teatre_principal': 12, 'estacio_nord': 6}\n"
     ]
    }
   ],
   "source": [
    "print(train_generator.class_indices)"
   ]
  },
  {
   "cell_type": "code",
   "execution_count": 16,
   "metadata": {},
   "outputs": [
    {
     "name": "stdout",
     "output_type": "stream",
     "text": [
      "{'mercat_independencia': 9, 'societat_general': 11, 'desconegut': 3, 'farmacia_albinyana': 7, 'ajuntament': 0, 'mnactec': 10, 'escola_enginyeria': 5, 'masia_freixa': 8, 'castell_cartoixa': 1, 'dona_treballadora': 4, 'catedral': 2, 'teatre_principal': 12, 'estacio_nord': 6}\n"
     ]
    }
   ],
   "source": [
    "print(validation_generator.class_indices)"
   ]
  },
  {
   "cell_type": "code",
   "execution_count": 17,
   "metadata": {},
   "outputs": [],
   "source": [
    "model.trainable = True\n",
    "\n"
   ]
  },
  {
   "cell_type": "code",
   "execution_count": 18,
   "metadata": {},
   "outputs": [],
   "source": [
    "from keras import optimizers\n",
    "\n",
    "model.compile(loss='categorical_crossentropy',\n",
    "              optimizer=optimizers.Adam(lr=1e-5),\n",
    "              metrics=['acc'])"
   ]
  },
  {
   "cell_type": "code",
   "execution_count": 19,
   "metadata": {},
   "outputs": [
    {
     "data": {
      "text/plain": [
       "True"
      ]
     },
     "execution_count": 19,
     "metadata": {},
     "output_type": "execute_result"
    }
   ],
   "source": [
    "model.layers[1].trainable"
   ]
  },
  {
   "cell_type": "code",
   "execution_count": 20,
   "metadata": {},
   "outputs": [],
   "source": [
    "#Genero un callback, consiste en que se guarda la mejor época\n",
    "filepath ='Nombre_del_modelo.h5'\n",
    "checkpoint = keras.callbacks.ModelCheckpoint(filepath, monitor='val_acc', verbose=1, save_best_only=True, save_weights_only=False, mode='auto', period=1)\n",
    "callbacks_list = [checkpoint]"
   ]
  },
  {
   "cell_type": "code",
   "execution_count": 26,
   "metadata": {},
   "outputs": [
    {
     "name": "stdout",
     "output_type": "stream",
     "text": [
      "Epoch 1/50\n",
      "59/59 [==============================] - 60s 1s/step - loss: 0.2650 - acc: 0.9230 - val_loss: 0.3578 - val_acc: 0.9356\n",
      "\n",
      "Epoch 00001: val_acc did not improve from 0.94467\n",
      "Epoch 2/50\n",
      "59/59 [==============================] - 59s 993ms/step - loss: 0.2525 - acc: 0.9356 - val_loss: 0.3150 - val_acc: 0.9497\n",
      "\n",
      "Epoch 00002: val_acc improved from 0.94467 to 0.94970, saving model to VGG_Dropout+Efectos.h5\n",
      "Epoch 3/50\n",
      "59/59 [==============================] - 59s 997ms/step - loss: 0.2131 - acc: 0.9390 - val_loss: 0.3810 - val_acc: 0.9384\n",
      "\n",
      "Epoch 00003: val_acc did not improve from 0.94970\n",
      "Epoch 4/50\n",
      "59/59 [==============================] - 59s 993ms/step - loss: 0.1951 - acc: 0.9491 - val_loss: 0.3224 - val_acc: 0.9416\n",
      "\n",
      "Epoch 00004: val_acc did not improve from 0.94970\n",
      "Epoch 5/50\n",
      "59/59 [==============================] - 59s 997ms/step - loss: 0.2427 - acc: 0.9288 - val_loss: 0.3099 - val_acc: 0.9366\n",
      "\n",
      "Epoch 00005: val_acc did not improve from 0.94970\n",
      "Epoch 6/50\n",
      "59/59 [==============================] - 59s 996ms/step - loss: 0.2429 - acc: 0.9298 - val_loss: 0.3518 - val_acc: 0.9326\n",
      "\n",
      "Epoch 00006: val_acc did not improve from 0.94970\n",
      "Epoch 7/50\n",
      "59/59 [==============================] - 59s 994ms/step - loss: 0.2272 - acc: 0.9315 - val_loss: 0.3984 - val_acc: 0.9316\n",
      "\n",
      "Epoch 00007: val_acc did not improve from 0.94970\n",
      "Epoch 8/50\n",
      "59/59 [==============================] - 59s 1s/step - loss: 0.3154 - acc: 0.9195 - val_loss: 0.3537 - val_acc: 0.9467\n",
      "\n",
      "Epoch 00008: val_acc did not improve from 0.94970\n",
      "Epoch 9/50\n",
      "59/59 [==============================] - 59s 998ms/step - loss: 0.2470 - acc: 0.9341 - val_loss: 0.4186 - val_acc: 0.9276\n",
      "\n",
      "Epoch 00009: val_acc did not improve from 0.94970\n",
      "Epoch 10/50\n",
      "59/59 [==============================] - 59s 1s/step - loss: 0.2285 - acc: 0.9327 - val_loss: 0.3787 - val_acc: 0.9286\n",
      "\n",
      "Epoch 00010: val_acc did not improve from 0.94970\n",
      "Epoch 11/50\n",
      "59/59 [==============================] - 60s 1s/step - loss: 0.2072 - acc: 0.9525 - val_loss: 0.3435 - val_acc: 0.9406\n",
      "\n",
      "Epoch 00011: val_acc did not improve from 0.94970\n",
      "Epoch 12/50\n",
      "59/59 [==============================] - 59s 1s/step - loss: 0.2184 - acc: 0.9432 - val_loss: 0.3723 - val_acc: 0.9326\n",
      "\n",
      "Epoch 00012: val_acc did not improve from 0.94970\n",
      "Epoch 13/50\n",
      "59/59 [==============================] - 60s 1s/step - loss: 0.2023 - acc: 0.9381 - val_loss: 0.3953 - val_acc: 0.9416\n",
      "\n",
      "Epoch 00013: val_acc did not improve from 0.94970\n",
      "Epoch 14/50\n",
      "59/59 [==============================] - 59s 1s/step - loss: 0.2407 - acc: 0.9313 - val_loss: 0.3098 - val_acc: 0.9467\n",
      "\n",
      "Epoch 00014: val_acc did not improve from 0.94970\n",
      "Epoch 15/50\n",
      "59/59 [==============================] - 59s 1s/step - loss: 0.1761 - acc: 0.9534 - val_loss: 0.3838 - val_acc: 0.9354\n",
      "\n",
      "Epoch 00015: val_acc did not improve from 0.94970\n",
      "Epoch 16/50\n",
      "59/59 [==============================] - 60s 1s/step - loss: 0.2114 - acc: 0.9424 - val_loss: 0.3578 - val_acc: 0.9497\n",
      "\n",
      "Epoch 00016: val_acc improved from 0.94970 to 0.94970, saving model to VGG_Dropout+Efectos.h5\n",
      "Epoch 17/50\n",
      "59/59 [==============================] - 59s 1s/step - loss: 0.2186 - acc: 0.9398 - val_loss: 0.3866 - val_acc: 0.9346\n",
      "\n",
      "Epoch 00017: val_acc did not improve from 0.94970\n",
      "Epoch 18/50\n",
      "59/59 [==============================] - 60s 1s/step - loss: 0.1880 - acc: 0.9475 - val_loss: 0.4154 - val_acc: 0.9366\n",
      "\n",
      "Epoch 00018: val_acc did not improve from 0.94970\n",
      "Epoch 19/50\n",
      "59/59 [==============================] - 59s 1s/step - loss: 0.2236 - acc: 0.9322 - val_loss: 0.4614 - val_acc: 0.9256\n",
      "\n",
      "Epoch 00019: val_acc did not improve from 0.94970\n",
      "Epoch 20/50\n",
      "59/59 [==============================] - 59s 1s/step - loss: 0.1830 - acc: 0.9458 - val_loss: 0.3491 - val_acc: 0.9366\n",
      "\n",
      "Epoch 00020: val_acc did not improve from 0.94970\n",
      "Epoch 21/50\n",
      "59/59 [==============================] - 59s 1s/step - loss: 0.1890 - acc: 0.9500 - val_loss: 0.3817 - val_acc: 0.9276\n",
      "\n",
      "Epoch 00021: val_acc did not improve from 0.94970\n",
      "Epoch 22/50\n",
      "59/59 [==============================] - 59s 1s/step - loss: 0.1735 - acc: 0.9508 - val_loss: 0.3689 - val_acc: 0.9356\n",
      "\n",
      "Epoch 00022: val_acc did not improve from 0.94970\n",
      "Epoch 23/50\n",
      "59/59 [==============================] - 59s 1s/step - loss: 0.1928 - acc: 0.9517 - val_loss: 0.4520 - val_acc: 0.9266\n",
      "\n",
      "Epoch 00023: val_acc did not improve from 0.94970\n",
      "Epoch 24/50\n",
      "59/59 [==============================] - 60s 1s/step - loss: 0.1867 - acc: 0.9542 - val_loss: 0.4624 - val_acc: 0.9316\n",
      "\n",
      "Epoch 00024: val_acc did not improve from 0.94970\n",
      "Epoch 25/50\n",
      "59/59 [==============================] - 59s 1s/step - loss: 0.2073 - acc: 0.9475 - val_loss: 0.4401 - val_acc: 0.9306\n",
      "\n",
      "Epoch 00025: val_acc did not improve from 0.94970\n",
      "Epoch 26/50\n",
      "59/59 [==============================] - 59s 1s/step - loss: 0.1641 - acc: 0.9559 - val_loss: 0.4188 - val_acc: 0.9396\n",
      "\n",
      "Epoch 00026: val_acc did not improve from 0.94970\n",
      "Epoch 27/50\n",
      "59/59 [==============================] - 59s 1s/step - loss: 0.2451 - acc: 0.9415 - val_loss: 0.6625 - val_acc: 0.9132\n",
      "\n",
      "Epoch 00027: val_acc did not improve from 0.94970\n",
      "Epoch 28/50\n",
      "59/59 [==============================] - 59s 1s/step - loss: 0.2085 - acc: 0.9415 - val_loss: 0.5067 - val_acc: 0.9296\n",
      "\n",
      "Epoch 00028: val_acc did not improve from 0.94970\n",
      "Epoch 29/50\n",
      "59/59 [==============================] - 60s 1s/step - loss: 0.2118 - acc: 0.9347 - val_loss: 0.4048 - val_acc: 0.9316\n",
      "\n",
      "Epoch 00029: val_acc did not improve from 0.94970\n",
      "Epoch 30/50\n",
      "59/59 [==============================] - 59s 1s/step - loss: 0.2355 - acc: 0.9398 - val_loss: 0.3749 - val_acc: 0.9467\n",
      "\n",
      "Epoch 00030: val_acc did not improve from 0.94970\n",
      "Epoch 31/50\n",
      "59/59 [==============================] - 60s 1s/step - loss: 0.2030 - acc: 0.9441 - val_loss: 0.3747 - val_acc: 0.9386\n",
      "\n",
      "Epoch 00031: val_acc did not improve from 0.94970\n",
      "Epoch 32/50\n",
      "59/59 [==============================] - 59s 1s/step - loss: 0.1923 - acc: 0.9508 - val_loss: 0.3525 - val_acc: 0.9366\n",
      "\n",
      "Epoch 00032: val_acc did not improve from 0.94970\n",
      "Epoch 33/50\n",
      "59/59 [==============================] - 59s 1s/step - loss: 0.1927 - acc: 0.9491 - val_loss: 0.3018 - val_acc: 0.9467\n",
      "\n",
      "Epoch 00033: val_acc did not improve from 0.94970\n",
      "Epoch 34/50\n",
      "59/59 [==============================] - 60s 1s/step - loss: 0.1892 - acc: 0.9356 - val_loss: 0.4444 - val_acc: 0.9336\n",
      "\n",
      "Epoch 00034: val_acc did not improve from 0.94970\n",
      "Epoch 35/50\n",
      "59/59 [==============================] - 59s 1s/step - loss: 0.2065 - acc: 0.9330 - val_loss: 0.2927 - val_acc: 0.9537\n",
      "\n",
      "Epoch 00035: val_acc improved from 0.94970 to 0.95372, saving model to VGG_Dropout+Efectos.h5\n",
      "Epoch 36/50\n",
      "59/59 [==============================] - 59s 1s/step - loss: 0.2086 - acc: 0.9368 - val_loss: 0.4163 - val_acc: 0.9386\n",
      "\n",
      "Epoch 00036: val_acc did not improve from 0.95372\n",
      "Epoch 37/50\n",
      "59/59 [==============================] - 60s 1s/step - loss: 0.1774 - acc: 0.9568 - val_loss: 0.3890 - val_acc: 0.9366\n",
      "\n",
      "Epoch 00037: val_acc did not improve from 0.95372\n",
      "Epoch 38/50\n",
      "59/59 [==============================] - 59s 1s/step - loss: 0.2070 - acc: 0.9491 - val_loss: 0.3967 - val_acc: 0.9396\n",
      "\n",
      "Epoch 00038: val_acc did not improve from 0.95372\n",
      "Epoch 39/50\n",
      "59/59 [==============================] - 60s 1s/step - loss: 0.1607 - acc: 0.9568 - val_loss: 0.3447 - val_acc: 0.9395\n",
      "\n",
      "Epoch 00039: val_acc did not improve from 0.95372\n",
      "Epoch 40/50\n",
      "59/59 [==============================] - 59s 1s/step - loss: 0.1667 - acc: 0.9542 - val_loss: 0.3463 - val_acc: 0.9477\n",
      "\n",
      "Epoch 00040: val_acc did not improve from 0.95372\n",
      "Epoch 41/50\n",
      "59/59 [==============================] - 59s 1s/step - loss: 0.1385 - acc: 0.9602 - val_loss: 0.4212 - val_acc: 0.9346\n",
      "\n",
      "Epoch 00041: val_acc did not improve from 0.95372\n",
      "Epoch 42/50\n",
      "59/59 [==============================] - 60s 1s/step - loss: 0.1319 - acc: 0.9542 - val_loss: 0.4065 - val_acc: 0.9447\n",
      "\n",
      "Epoch 00042: val_acc did not improve from 0.95372\n",
      "Epoch 43/50\n",
      "59/59 [==============================] - 59s 1s/step - loss: 0.1989 - acc: 0.9432 - val_loss: 0.3970 - val_acc: 0.9235\n",
      "\n",
      "Epoch 00043: val_acc did not improve from 0.95372\n",
      "Epoch 44/50\n",
      "59/59 [==============================] - 60s 1s/step - loss: 0.1562 - acc: 0.9542 - val_loss: 0.4897 - val_acc: 0.9286\n",
      "\n",
      "Epoch 00044: val_acc did not improve from 0.95372\n",
      "Epoch 45/50\n",
      "59/59 [==============================] - 59s 1s/step - loss: 0.1655 - acc: 0.9520 - val_loss: 0.3370 - val_acc: 0.9527\n",
      "\n",
      "Epoch 00045: val_acc did not improve from 0.95372\n",
      "Epoch 46/50\n",
      "59/59 [==============================] - 59s 1s/step - loss: 0.1834 - acc: 0.9500 - val_loss: 0.3684 - val_acc: 0.9366\n",
      "\n",
      "Epoch 00046: val_acc did not improve from 0.95372\n",
      "Epoch 47/50\n",
      "59/59 [==============================] - 60s 1s/step - loss: 0.1817 - acc: 0.9424 - val_loss: 0.4001 - val_acc: 0.9396\n",
      "\n",
      "Epoch 00047: val_acc did not improve from 0.95372\n",
      "Epoch 48/50\n",
      "59/59 [==============================] - 59s 1s/step - loss: 0.2019 - acc: 0.9373 - val_loss: 0.4140 - val_acc: 0.9336\n",
      "\n",
      "Epoch 00048: val_acc did not improve from 0.95372\n",
      "Epoch 49/50\n",
      "59/59 [==============================] - 60s 1s/step - loss: 0.1993 - acc: 0.9390 - val_loss: 0.3330 - val_acc: 0.9376\n",
      "\n",
      "Epoch 00049: val_acc did not improve from 0.95372\n",
      "Epoch 50/50\n",
      "59/59 [==============================] - 60s 1s/step - loss: 0.1673 - acc: 0.9476 - val_loss: 0.4819 - val_acc: 0.9336\n",
      "\n",
      "Epoch 00050: val_acc did not improve from 0.95372\n"
     ]
    }
   ],
   "source": [
    "history = model.fit_generator(\n",
    "      train_generator,\n",
    "      steps_per_epoch=1194//20,\n",
    "      epochs=50,\n",
    "      callbacks=callbacks_list,\n",
    "      validation_data=validation_generator,\n",
    "      validation_steps=50)"
   ]
  },
  {
   "cell_type": "code",
   "execution_count": 25,
   "metadata": {},
   "outputs": [],
   "source": [
    "#preprocessing_function=seq.apply_image"
   ]
  },
  {
   "cell_type": "code",
   "execution_count": null,
   "metadata": {},
   "outputs": [],
   "source": [
    "#model.save('8_Entrega_kaggle_3.h5')\n",
    "#np.save('8_Entrega_kaggle_3', history.history)"
   ]
  },
  {
   "cell_type": "code",
   "execution_count": null,
   "metadata": {},
   "outputs": [],
   "source": [
    "acc = history.history['acc']\n",
    "val_acc = history.history['val_acc']\n",
    "loss = history.history['loss']\n",
    "val_loss = history.history['val_loss']"
   ]
  },
  {
   "cell_type": "code",
   "execution_count": null,
   "metadata": {},
   "outputs": [],
   "source": [
    "import matplotlib.pyplot as plt\n",
    "\n",
    "\n",
    "epochs = range(len(acc))\n",
    "\n",
    "plt.plot(epochs, acc, 'r', label='Training acc')\n",
    "plt.plot(epochs, val_acc, 'b', label='Validation acc')\n",
    "plt.title('Training and validation accuracy')\n",
    "plt.legend()\n",
    "\n",
    "plt.figure()\n",
    "\n",
    "plt.plot(epochs, loss, 'r', label='Training loss')\n",
    "plt.plot(epochs, val_loss, 'b', label='Validation loss')\n",
    "plt.title('Training and validation loss')\n",
    "plt.legend()\n",
    "\n",
    "plt.show()"
   ]
  },
  {
   "cell_type": "code",
   "execution_count": null,
   "metadata": {},
   "outputs": [],
   "source": []
  },
  {
   "cell_type": "code",
   "execution_count": null,
   "metadata": {},
   "outputs": [],
   "source": []
  },
  {
   "cell_type": "code",
   "execution_count": null,
   "metadata": {},
   "outputs": [],
   "source": []
  },
  {
   "cell_type": "code",
   "execution_count": null,
   "metadata": {},
   "outputs": [],
   "source": []
  },
  {
   "cell_type": "code",
   "execution_count": null,
   "metadata": {},
   "outputs": [],
   "source": []
  },
  {
   "cell_type": "code",
   "execution_count": null,
   "metadata": {},
   "outputs": [],
   "source": []
  },
  {
   "cell_type": "code",
   "execution_count": null,
   "metadata": {},
   "outputs": [],
   "source": []
  },
  {
   "cell_type": "code",
   "execution_count": null,
   "metadata": {},
   "outputs": [],
   "source": []
  },
  {
   "cell_type": "code",
   "execution_count": null,
   "metadata": {},
   "outputs": [],
   "source": []
  },
  {
   "cell_type": "code",
   "execution_count": null,
   "metadata": {},
   "outputs": [],
   "source": []
  },
  {
   "cell_type": "code",
   "execution_count": null,
   "metadata": {},
   "outputs": [],
   "source": []
  },
  {
   "cell_type": "code",
   "execution_count": null,
   "metadata": {},
   "outputs": [],
   "source": []
  },
  {
   "cell_type": "code",
   "execution_count": null,
   "metadata": {},
   "outputs": [],
   "source": []
  },
  {
   "cell_type": "code",
   "execution_count": null,
   "metadata": {},
   "outputs": [],
   "source": []
  },
  {
   "cell_type": "code",
   "execution_count": null,
   "metadata": {},
   "outputs": [],
   "source": []
  },
  {
   "cell_type": "code",
   "execution_count": null,
   "metadata": {},
   "outputs": [],
   "source": []
  },
  {
   "cell_type": "code",
   "execution_count": null,
   "metadata": {},
   "outputs": [],
   "source": []
  },
  {
   "cell_type": "code",
   "execution_count": null,
   "metadata": {},
   "outputs": [],
   "source": []
  },
  {
   "cell_type": "code",
   "execution_count": null,
   "metadata": {},
   "outputs": [],
   "source": []
  },
  {
   "cell_type": "code",
   "execution_count": null,
   "metadata": {},
   "outputs": [],
   "source": []
  },
  {
   "cell_type": "code",
   "execution_count": null,
   "metadata": {},
   "outputs": [],
   "source": []
  },
  {
   "cell_type": "code",
   "execution_count": 15,
   "metadata": {},
   "outputs": [],
   "source": [
    "clases = {}\n",
    "clases[0] = 'ajuntament'\n",
    "clases[1] = 'castell_cartoixa'\n",
    "clases[2] = 'catedral'\n",
    "clases[3] = 'dona_treballadora'\n",
    "clases[4] = 'escola_enginyeria'\n",
    "clases[5] = 'estacio_nord'\n",
    "clases[6] = 'farmacia_albinyana'\n",
    "clases[7] = 'masia_freixa'\n",
    "clases[8] = 'mercat_independencia'\n",
    "clases[9] = 'mnactec'\n",
    "clases[10] = 'societat_general'\n",
    "clases[11] = 'teatre_principal'\n",
    "#dictio_matrix['desconegut'] = 12"
   ]
  },
  {
   "cell_type": "code",
   "execution_count": 16,
   "metadata": {},
   "outputs": [
    {
     "data": {
      "text/plain": [
       "{0: 'ajuntament',\n",
       " 1: 'castell_cartoixa',\n",
       " 2: 'catedral',\n",
       " 3: 'dona_treballadora',\n",
       " 4: 'escola_enginyeria',\n",
       " 5: 'estacio_nord',\n",
       " 6: 'farmacia_albinyana',\n",
       " 7: 'masia_freixa',\n",
       " 8: 'mercat_independencia',\n",
       " 9: 'mnactec',\n",
       " 10: 'societat_general',\n",
       " 11: 'teatre_principal'}"
      ]
     },
     "execution_count": 16,
     "metadata": {},
     "output_type": "execute_result"
    }
   ],
   "source": [
    "clases"
   ]
  },
  {
   "cell_type": "code",
   "execution_count": null,
   "metadata": {},
   "outputs": [],
   "source": []
  }
 ],
 "metadata": {
  "kernelspec": {
   "display_name": "Python 2",
   "language": "python",
   "name": "python2"
  },
  "language_info": {
   "codemirror_mode": {
    "name": "ipython",
    "version": 2
   },
   "file_extension": ".py",
   "mimetype": "text/x-python",
   "name": "python",
   "nbconvert_exporter": "python",
   "pygments_lexer": "ipython2",
   "version": "2.7.13"
  }
 },
 "nbformat": 4,
 "nbformat_minor": 2
}
