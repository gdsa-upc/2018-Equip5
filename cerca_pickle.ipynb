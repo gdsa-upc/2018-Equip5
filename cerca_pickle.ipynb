{
 "cells": [
  {
   "cell_type": "code",
   "execution_count": 3,
   "metadata": {},
   "outputs": [
    {
     "name": "stderr",
     "output_type": "stream",
     "text": [
      "Using TensorFlow backend.\n"
     ]
    }
   ],
   "source": [
    "import keras\n",
    "import os\n",
    "import pickle\n",
    "import cv2 as cv2\n",
    "from params import get_params\n",
    "from sklearn import preprocessing\n",
    "import sklearn.preprocessing\n",
    "import numpy as np\n",
    "from os import walk\n",
    "import matplotlib.pyplot as plt\n",
    "from build_database import build_database\n",
    "from PIL import Image, ImageOps;\n",
    "from keras.models import Model\n",
    "from keras.preprocessing import image\n",
    "from keras.applications.vgg19 import VGG19\n",
    "from keras.applications.vgg19 import preprocess_input"
   ]
  },
  {
   "cell_type": "code",
   "execution_count": 4,
   "metadata": {},
   "outputs": [],
   "source": [
    "descriptors = pickle.load(open(\"descriptor.p\", \"rb\"))"
   ]
  },
  {
   "cell_type": "code",
   "execution_count": 5,
   "metadata": {},
   "outputs": [
    {
     "data": {
      "text/plain": [
       "(477, 1, 4096)"
      ]
     },
     "execution_count": 5,
     "metadata": {},
     "output_type": "execute_result"
    }
   ],
   "source": [
    "descriptors.shape"
   ]
  },
  {
   "cell_type": "code",
   "execution_count": 6,
   "metadata": {},
   "outputs": [],
   "source": [
    "descriptors2 = pickle.load(open(\"descriptor2.p\", \"rb\"))"
   ]
  },
  {
   "cell_type": "code",
   "execution_count": 7,
   "metadata": {},
   "outputs": [
    {
     "data": {
      "text/plain": [
       "(717, 1, 4096)"
      ]
     },
     "execution_count": 7,
     "metadata": {},
     "output_type": "execute_result"
    }
   ],
   "source": [
    "descriptors2.shape"
   ]
  },
  {
   "cell_type": "code",
   "execution_count": 8,
   "metadata": {},
   "outputs": [],
   "source": [
    "descriptors3 = pickle.load(open(\"descriptor3.p\", \"rb\"))"
   ]
  },
  {
   "cell_type": "code",
   "execution_count": 9,
   "metadata": {},
   "outputs": [
    {
     "data": {
      "text/plain": [
       "(1194, 1, 4096)"
      ]
     },
     "execution_count": 9,
     "metadata": {},
     "output_type": "execute_result"
    }
   ],
   "source": [
    "descriptors3.shape"
   ]
  },
  {
   "cell_type": "code",
   "execution_count": 10,
   "metadata": {},
   "outputs": [],
   "source": [
    "imagen = pickle.load(open(\"imagen.p\", \"rb\"))"
   ]
  },
  {
   "cell_type": "code",
   "execution_count": 11,
   "metadata": {},
   "outputs": [],
   "source": [
    "imagen2 = pickle.load(open(\"imagen2.p\", \"rb\"))"
   ]
  },
  {
   "cell_type": "code",
   "execution_count": 12,
   "metadata": {},
   "outputs": [],
   "source": [
    "imagen3 = pickle.load(open(\"imagen3.p\", \"rb\"))"
   ]
  },
  {
   "cell_type": "code",
   "execution_count": 13,
   "metadata": {},
   "outputs": [],
   "source": [
    "descriptors_val=np.reshape(descriptors,(477,4096))"
   ]
  },
  {
   "cell_type": "code",
   "execution_count": 14,
   "metadata": {},
   "outputs": [],
   "source": [
    "descriptors_train=np.reshape(descriptors3,(1194,4096))"
   ]
  },
  {
   "cell_type": "code",
   "execution_count": 15,
   "metadata": {},
   "outputs": [],
   "source": [
    "#Hago la lectura de todas las líneas del .txt\n",
    "with open(\"./TB2017/val/annotation.txt\",'r') as f:\n",
    "        archivo1 = f.readlines()"
   ]
  },
  {
   "cell_type": "code",
   "execution_count": 16,
   "metadata": {},
   "outputs": [],
   "source": [
    "archivo1.sort()#Ordeno la lista de archivos para tenerlo en el mismo orden que las imagenes."
   ]
  },
  {
   "cell_type": "code",
   "execution_count": 17,
   "metadata": {},
   "outputs": [],
   "source": [
    "pictionari = {}\n",
    "ip=0\n",
    "for ip in range(len(archivo1)):\n",
    "    pictionari[archivo1[ip][0:10]] = archivo1[ip][11:len(archivo1[ip])-1] #Aquí genero un diccionario de nombres y etiquetas."
   ]
  },
  {
   "cell_type": "code",
   "execution_count": 18,
   "metadata": {},
   "outputs": [],
   "source": [
    "pictionari_val = {}\n",
    "ipp=0\n",
    "for ipp in range(len(archivo1)-1):\n",
    "    pictionari_val[ipp]=pictionari[archivo1[ipp+1][0:10]] #Aquí relaciono las etiquetas con los índices del vector"
   ]
  },
  {
   "cell_type": "code",
   "execution_count": 19,
   "metadata": {},
   "outputs": [],
   "source": [
    "#Ahora lo mismo para las otra. Ya que no empleamos test.\n",
    "#Así obtengo un diccionario que me relaciona los elementos de los vectores de las fotos con sus etiquetas"
   ]
  },
  {
   "cell_type": "code",
   "execution_count": 20,
   "metadata": {},
   "outputs": [],
   "source": [
    "#Hago la lectura de todas las líneas del .txt\n",
    "with open(\"./TB2017/train/annotation.txt\",'r') as f:\n",
    "        archivo3 = f.readlines()\n",
    "        "
   ]
  },
  {
   "cell_type": "code",
   "execution_count": 21,
   "metadata": {},
   "outputs": [],
   "source": [
    "archivo3.sort()#Ordeno la lista de archivos para tenerlo en el mismo orden que las imagenes."
   ]
  },
  {
   "cell_type": "code",
   "execution_count": 22,
   "metadata": {},
   "outputs": [],
   "source": [
    "pictionari3 = {}\n",
    "ipo=0\n",
    "for ipo in range(len(archivo3)):\n",
    "    pictionari3[archivo3[ipo][0:10]] = archivo3[ipo][11:len(archivo3[ipo])-1] #Aquí genero un diccionario de nombres y etiquetas."
   ]
  },
  {
   "cell_type": "code",
   "execution_count": 23,
   "metadata": {},
   "outputs": [],
   "source": [
    "pictionari_train = {}\n",
    "ippo=0\n",
    "for ippo in range(len(archivo3)-1):\n",
    "    pictionari_train[ippo]=pictionari3[archivo3[ippo+1][0:10]] #Aquí relaciono las etiquetas con los índices del vector"
   ]
  },
  {
   "cell_type": "code",
   "execution_count": 24,
   "metadata": {},
   "outputs": [],
   "source": [
    "relevantes = {}\n",
    "lop=0\n",
    "for lop in range(len(archivo3)):\n",
    "    if relevantes.get(archivo3[lop][11:len(archivo3[lop])-1]):\n",
    "        relevantes[archivo3[lop][11:len(archivo3[lop])-1]]=relevantes[archivo3[lop][11:len(archivo3[lop])-1]]+1\n",
    "    else: \n",
    "        relevantes[archivo3[lop][11:len(archivo3[lop])-1]] =1\n",
    "del relevantes[\"ssID\"] # Así elimino la primera línea // Solo correr una vez."
   ]
  },
  {
   "cell_type": "code",
   "execution_count": 25,
   "metadata": {},
   "outputs": [
    {
     "data": {
      "text/plain": [
       "{'ajuntament': 75,\n",
       " 'castell_cartoixa': 75,\n",
       " 'catedral': 75,\n",
       " 'desconegut': 295,\n",
       " 'dona_treballadora': 74,\n",
       " 'escola_enginyeria': 75,\n",
       " 'estacio_nord': 75,\n",
       " 'farmacia_albinyana': 75,\n",
       " 'masia_freixa': 75,\n",
       " 'mercat_independencia': 75,\n",
       " 'mnactec': 75,\n",
       " 'societat_general': 75,\n",
       " 'teatre_principal': 75}"
      ]
     },
     "execution_count": 25,
     "metadata": {},
     "output_type": "execute_result"
    }
   ],
   "source": [
    "relevantes"
   ]
  },
  {
   "cell_type": "code",
   "execution_count": 26,
   "metadata": {},
   "outputs": [],
   "source": [
    "x_val_normalized = sklearn.preprocessing.normalize(descriptors_val, norm='l2', axis=1, copy=True, return_norm=False)"
   ]
  },
  {
   "cell_type": "code",
   "execution_count": 27,
   "metadata": {},
   "outputs": [],
   "source": [
    "x_train_normalized = sklearn.preprocessing.normalize(descriptors_train, norm='l2', axis=1, copy=True, return_norm=False)"
   ]
  },
  {
   "cell_type": "code",
   "execution_count": 28,
   "metadata": {},
   "outputs": [],
   "source": [
    "x_train_normalized= x_train_normalized.transpose()"
   ]
  },
  {
   "cell_type": "code",
   "execution_count": 29,
   "metadata": {},
   "outputs": [],
   "source": [
    "Last = np.matmul(x_val_normalized,x_train_normalized,out = None)"
   ]
  },
  {
   "cell_type": "code",
   "execution_count": 30,
   "metadata": {},
   "outputs": [],
   "source": [
    "ranks = np.argsort(Last,axis = 1)[:,::-1]"
   ]
  },
  {
   "cell_type": "code",
   "execution_count": 31,
   "metadata": {},
   "outputs": [],
   "source": [
    "x_val_images = []\n",
    "for ol in range(477):   \n",
    "    \n",
    "    x_val_images.append(np.array(imagen[ol]))\n",
    "    "
   ]
  },
  {
   "cell_type": "code",
   "execution_count": 32,
   "metadata": {},
   "outputs": [],
   "source": [
    "x_train_images = []\n",
    "\n",
    "for oil in range(1194):   \n",
    "    \n",
    "    x_train_images.append(np.array(imagen3[oil]))"
   ]
  },
  {
   "cell_type": "code",
   "execution_count": 33,
   "metadata": {},
   "outputs": [],
   "source": [
    "from PIL import Image, ImageOps;\n",
    "# get the original images for visualization\n",
    "# x_test_normalized = np.empty((717,4096))\n",
    "h,w = (224, 224)\n",
    "new_image= Image.new('RGB', (h*5,w*13))"
   ]
  },
  {
   "cell_type": "code",
   "execution_count": 34,
   "metadata": {},
   "outputs": [
    {
     "data": {
      "text/plain": [
       "'dona_treballadora'"
      ]
     },
     "execution_count": 34,
     "metadata": {},
     "output_type": "execute_result"
    }
   ],
   "source": [
    "pictionari_val[1]"
   ]
  },
  {
   "cell_type": "code",
   "execution_count": 35,
   "metadata": {},
   "outputs": [
    {
     "data": {
      "image/png": "[encoded data removed]",
      "text/plain": [
       "<Figure size 432x288 with 1 Axes>"
      ]
     },
     "metadata": {},
     "output_type": "display_data"
    }
   ],
   "source": [
    "# Visualize ranks of the 10 queries\n",
    "count=0\n",
    "k=4\n",
    "offset = 10 # it will show results from query #'offset' to #offset+10\n",
    "for q in range(13):\n",
    "    etiqueta=[]\n",
    "    ranks_q = []\n",
    "    ranks_q = ranks[q*(offset+1),:] #Aquí ranks, te coge los que más se parezcan en orden\n",
    "    for long in range(k):#Aquí miro los K primeras // ranks_q.size\n",
    "        etiqueta.append(pictionari_train[ranks_q[long]])  \n",
    "        \n",
    "    for i in range(k):\n",
    "        if pictionari_val[q*(offset+1)] == etiqueta[i]:\n",
    "            #new_image.paste( Image.fromarray(x_train_images[ranks_q[i]]), (h*(1+i),w*q ))\n",
    "            new_image.paste( ImageOps.expand(Image.fromarray(x_train_images[ranks_q[i]]),border=20,fill='green'), (h*(1+i),w*q ))\n",
    "            count =count+1\n",
    "        else:\n",
    "            new_image.paste( ImageOps.expand(Image.fromarray(x_train_images[ranks_q[i]]),border=20,fill='red'), (h*(1+i),w*q ))\n",
    "\n",
    "  # visualize query\n",
    "    ima_q = Image.fromarray(x_val_images[q*(offset+1)])\n",
    "    ima_q = ImageOps.expand(ima_q, border=20, fill='blue')\n",
    "    new_image.paste(ima_q, (0,w*q))\n",
    "\n",
    "plt.imshow(new_image)\n",
    "plt.axis('off')\n",
    "plt.show()"
   ]
  },
  {
   "cell_type": "code",
   "execution_count": 36,
   "metadata": {},
   "outputs": [],
   "source": [
    "new_image.save('prueba.jpg')"
   ]
  },
  {
   "cell_type": "code",
   "execution_count": 37,
   "metadata": {},
   "outputs": [],
   "source": [
    "#Ahora todos los MAP de todas las fotos con M=3."
   ]
  },
  {
   "cell_type": "code",
   "execution_count": 60,
   "metadata": {},
   "outputs": [
    {
     "data": {
      "text/plain": [
       "'mercat_independencia'"
      ]
     },
     "execution_count": 60,
     "metadata": {},
     "output_type": "execute_result"
    }
   ],
   "source": [
    "pictionari_val[q]"
   ]
  },
  {
   "cell_type": "code",
   "execution_count": 92,
   "metadata": {},
   "outputs": [],
   "source": [
    "# Visualize ranks of the 10 queries\n",
    "\n",
    "k=len(pictionari_train)\n",
    "offset = 0 # it will show results from query #'offset' to #offset+10\n",
    "AP_final=[]\n",
    "for q in range(477):\n",
    "    if pictionari_val[q] != 'desconegut':\n",
    "        total = relevantes[pictionari_val[q]]\n",
    "        final = total\n",
    "        AP = []\n",
    "        count = 0\n",
    "        etiqueta = []\n",
    "        ranks_q = []\n",
    "        ranks_q = ranks[q*(offset+1),:] #Aquí ranks, te coge los que más se parezcan en orden\n",
    "\n",
    "        for long in range(k):#Aquí miro los K primeras // ranks_q.size\n",
    "            etiqueta.append(pictionari_train[ranks_q[long]])     \n",
    "\n",
    "        for i in range(k):\n",
    "            if pictionari_val[q*(offset+1)] == etiqueta[i] and total != 0:\n",
    "                count = count + 1\n",
    "                final = final - 1\n",
    "                AP.append(count/float(i+1))\n",
    "            if final == 0:\n",
    "                break\n",
    "\n",
    "        suma=0\n",
    "        o=0\n",
    "        for o in AP:\n",
    "            suma += o\n",
    "        AP_final.append(suma/float(total))\n"
   ]
  },
  {
   "cell_type": "code",
   "execution_count": 93,
   "metadata": {},
   "outputs": [
    {
     "data": {
      "text/plain": [
       "0.8242398177479504"
      ]
     },
     "execution_count": 93,
     "metadata": {},
     "output_type": "execute_result"
    }
   ],
   "source": [
    "max(AP_final)"
   ]
  },
  {
   "cell_type": "code",
   "execution_count": 94,
   "metadata": {},
   "outputs": [
    {
     "data": {
      "text/plain": [
       "0.039524721937941217"
      ]
     },
     "execution_count": 94,
     "metadata": {},
     "output_type": "execute_result"
    }
   ],
   "source": [
    "min(AP_final)"
   ]
  },
  {
   "cell_type": "code",
   "execution_count": 102,
   "metadata": {},
   "outputs": [],
   "source": [
    "suma=0\n",
    "o=0\n",
    "for o in AP_final:\n",
    "    suma += o\n",
    "AP_final_tot_M3 =suma/float(len(AP_final))"
   ]
  },
  {
   "cell_type": "code",
   "execution_count": 103,
   "metadata": {},
   "outputs": [
    {
     "data": {
      "text/plain": [
       "0.3745494858035534"
      ]
     },
     "execution_count": 103,
     "metadata": {},
     "output_type": "execute_result"
    }
   ],
   "source": [
    "AP_final_tot_M3"
   ]
  },
  {
   "cell_type": "code",
   "execution_count": 104,
   "metadata": {},
   "outputs": [
    {
     "data": {
      "text/plain": [
       "359"
      ]
     },
     "execution_count": 104,
     "metadata": {},
     "output_type": "execute_result"
    }
   ],
   "source": [
    "len(AP_final)"
   ]
  },
  {
   "cell_type": "code",
   "execution_count": null,
   "metadata": {},
   "outputs": [],
   "source": []
  },
  {
   "cell_type": "code",
   "execution_count": null,
   "metadata": {},
   "outputs": [],
   "source": []
  }
 ],
 "metadata": {
  "kernelspec": {
   "display_name": "Python 2",
   "language": "python",
   "name": "python2"
  },
  "language_info": {
   "codemirror_mode": {
    "name": "ipython",
    "version": 2
   },
   "file_extension": ".py",
   "mimetype": "text/x-python",
   "name": "python",
   "nbconvert_exporter": "python",
   "pygments_lexer": "ipython2",
   "version": "2.7.13"
  }
 },
 "nbformat": 4,
 "nbformat_minor": 2
}
